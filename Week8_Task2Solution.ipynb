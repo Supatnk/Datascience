{
 "cells": [
  {
   "cell_type": "markdown",
   "metadata": {},
   "source": [
    "# Task 2"
   ]
  },
  {
   "cell_type": "markdown",
   "metadata": {},
   "source": [
    "1)\tDownload the MNIST dataset using sklearn.datasets"
   ]
  },
  {
   "cell_type": "code",
   "execution_count": null,
   "metadata": {
    "collapsed": true
   },
   "outputs": [],
   "source": [
    "from sklearn.datasets import fetch_mldata\n",
    "mnist = fetch_mldata(\"MNIST original\")"
   ]
  },
  {
   "cell_type": "code",
   "execution_count": null,
   "metadata": {
    "collapsed": true
   },
   "outputs": [],
   "source": [
    "mnist # View the mnist variable"
   ]
  },
  {
   "cell_type": "markdown",
   "metadata": {},
   "source": [
    "2) Shuffle the dataset and use a subset of 10000 images from it."
   ]
  },
  {
   "cell_type": "code",
   "execution_count": null,
   "metadata": {
    "collapsed": true
   },
   "outputs": [],
   "source": [
    "# Shuffle the dataset\n",
    "from sklearn.utils import shuffle\n",
    "mnist.data, mnist.target = shuffle(mnist.data, mnist.target, random_state=0)\n",
    "# random_state -> seed for reproducing results\n",
    "\n",
    "# Get a subset of 10000 images \n",
    "# You can replace 10000 with 1000 if you want to run the program and view some results quickly\n",
    "data = mnist.data[:10000]\n",
    "target = mnist.target[:10000]"
   ]
  },
  {
   "cell_type": "markdown",
   "metadata": {},
   "source": [
    "3)\tSplit the train and test sets at 85:15"
   ]
  },
  {
   "cell_type": "code",
   "execution_count": null,
   "metadata": {
    "collapsed": true
   },
   "outputs": [],
   "source": [
    "from sklearn.model_selection import train_test_split\n",
    "\n",
    "x_train, x_test, y_train, y_test = train_test_split(data, target, test_size=0.15, random_state=0)\n",
    "# test_size -> percentage split\n",
    "# random_state -> seed for reproducing results"
   ]
  },
  {
   "cell_type": "code",
   "execution_count": null,
   "metadata": {},
   "outputs": [],
   "source": [
    "# View the shape of the four variables (optional)\n",
    "# x_train.shape\n",
    "# x_test.shape\n",
    "# y_train.shape\n",
    "# y_test.shape"
   ]
  },
  {
   "cell_type": "markdown",
   "metadata": {},
   "source": [
    "4)\tCreate a kNN classifier and perform 5-fold cross validation for each different values of 'k' (k = 3,5,…,25,27,29) "
   ]
  },
  {
   "cell_type": "code",
   "execution_count": null,
   "metadata": {},
   "outputs": [],
   "source": [
    "from sklearn.neighbors import KNeighborsClassifier\n",
    "from sklearn.model_selection import cross_val_score\n",
    "\n",
    "# Create a list for k = 3,5,7,...,25,27,29\n",
    "k_list = list(range(3,30,2))\n",
    "\n",
    "# Create an empty list to store the cross_val_scores\n",
    "cross_val_scores = []\n",
    "\n",
    "# Traverse through the k_list, create a kNN object for each k and run the cross valication\n",
    "for k in k_list:\n",
    "    knn = KNeighborsClassifier(n_neighbors=k,p=1) #Try p=2 for Euclidean distance\n",
    "    scores = cross_val_score(knn, x_train, y_train, cv=5, scoring='accuracy')\n",
    "    print(str(k) + ': ' + str(scores)) # View progress\n",
    "    cross_val_scores.append(scores.mean()) # Append the mean of the scores for each k to the empty list created above"
   ]
  },
  {
   "cell_type": "markdown",
   "metadata": {},
   "source": [
    "5)\tPlot the accuracy score for each ‘k’ and find the optimum ‘k’ value"
   ]
  },
  {
   "cell_type": "code",
   "execution_count": null,
   "metadata": {},
   "outputs": [],
   "source": [
    "from matplotlib import pyplot as plt\n",
    "plt.plot(k_list,cross_val_scores)\n",
    "plt.show()"
   ]
  },
  {
   "cell_type": "code",
   "execution_count": null,
   "metadata": {},
   "outputs": [],
   "source": [
    "# Find the index of the maximum of the cross validation scores and get the corresponding k value using this index\n",
    "opt_index = cross_val_scores.index(max(cross_val_scores))\n",
    "opt_k = k_list[opt_index]\n",
    "opt_k"
   ]
  },
  {
   "cell_type": "markdown",
   "metadata": {},
   "source": [
    "6)\tUse the ‘k’ value obtained above and test the classifier on the test set"
   ]
  },
  {
   "cell_type": "code",
   "execution_count": null,
   "metadata": {},
   "outputs": [],
   "source": [
    "knn = KNeighborsClassifier(n_neighbors=3,p=1)\n",
    "knn.fit(x_train, y_train)\n",
    "y_pred = knn.predict(x_test)"
   ]
  },
  {
   "cell_type": "markdown",
   "metadata": {},
   "source": [
    "7)\tProduce the classification report and visualise the results"
   ]
  },
  {
   "cell_type": "code",
   "execution_count": null,
   "metadata": {},
   "outputs": [],
   "source": [
    "from sklearn.metrics import classification_report\n",
    "print(classification_report(y_test, y_pred))"
   ]
  },
  {
   "cell_type": "code",
   "execution_count": null,
   "metadata": {},
   "outputs": [],
   "source": [
    "# Comparing the true and predicted results of a few samples\n",
    "from skimage.io import imshow\n",
    "fig = plt.figure()\n",
    "fig.set_figheight(8)\n",
    "fig.set_figwidth(8)\n",
    "\n",
    "n = 1 # Change the sample number 'n' here to view different sets of samples\n",
    "if n>x_test.shape[0]-10: # bound the sample numbers to 9 less than the number of test samples\n",
    "    n = x_test.shape[0]-10\n",
    "\n",
    "for i in range(0,9):\n",
    "    ax = fig.add_subplot(3,3,i+1, title='True: ' + str(y_test[n+i]) + ',Pred: ' + str(y_pred[n+i]))\n",
    "    img = x_test[n+i,:].reshape((28,28)).astype('uint8');\n",
    "    imshow(img)\n",
    "    ax.axis('off')\n",
    "plt.tight_layout()\n",
    "plt.show()"
   ]
  },
  {
   "cell_type": "code",
   "execution_count": null,
   "metadata": {
    "scrolled": true
   },
   "outputs": [],
   "source": [
    "# Visualising the k-Nearest Neighbours of a sample\n",
    "\n",
    "n = 20 # Change the sample number here to view different samples\n",
    "if n>x_test.shape[0]-1: # bound the sample number 'n' by the number of test samples\n",
    "    n = x_test.shape[0]-1\n",
    "    \n",
    "ind = knn.kneighbors(x_test[n,:].reshape(1,-1),n_neighbors=10,return_distance=False)\n",
    "fig = plt.figure()\n",
    "fig.set_figheight(15)\n",
    "fig.set_figwidth(15)\n",
    "start = 3\n",
    "ax = fig.add_subplot(1,len(ind[0])+2,1)\n",
    "img = x_test[n,:].reshape((28,28)).astype('uint8');\n",
    "imshow(img)\n",
    "ax.axis('off')\n",
    "for i in ind[0]:\n",
    "    ax = fig.add_subplot(1,len(ind[0])+2,start)\n",
    "    img = x_train[i,:].reshape((28,28)).astype('uint8');\n",
    "    imshow(img)\n",
    "    ax.axis('off')\n",
    "    start = start+1\n",
    "plt.tight_layout()\n",
    "plt.show()"
   ]
  },
  {
   "cell_type": "code",
   "execution_count": null,
   "metadata": {
    "collapsed": true
   },
   "outputs": [],
   "source": []
  }
 ],
 "metadata": {
  "kernelspec": {
   "display_name": "Python 2",
   "language": "python",
   "name": "python2"
  },
  "language_info": {
   "codemirror_mode": {
    "name": "ipython",
    "version": 2
   },
   "file_extension": ".py",
   "mimetype": "text/x-python",
   "name": "python",
   "nbconvert_exporter": "python",
   "pygments_lexer": "ipython2",
   "version": "2.7.13"
  }
 },
 "nbformat": 4,
 "nbformat_minor": 2
}
