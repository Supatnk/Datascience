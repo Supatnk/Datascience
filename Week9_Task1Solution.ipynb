{
 "cells": [
  {
   "cell_type": "markdown",
   "metadata": {},
   "source": [
    "# Task 1: k-means on Zachary's Karate Club Dataset"
   ]
  },
  {
   "cell_type": "markdown",
   "metadata": {},
   "source": [
    "Perform k-means clustering with k=2 on Zachary's Karate Club Dataset "
   ]
  },
  {
   "cell_type": "code",
   "execution_count": null,
   "metadata": {
    "collapsed": true
   },
   "outputs": [],
   "source": [
    "# Import the networkx package\n",
    "import networkx as nx "
   ]
  },
  {
   "cell_type": "code",
   "execution_count": null,
   "metadata": {
    "collapsed": true
   },
   "outputs": [],
   "source": [
    "# Import the Karate club dataset\n",
    "G = nx.karate_club_graph()"
   ]
  },
  {
   "cell_type": "code",
   "execution_count": null,
   "metadata": {},
   "outputs": [],
   "source": [
    "# Create the groundtruth array for comparing the results\n",
    "import numpy as np\n",
    "y_true = np.array([0,0,0,0,0,0,0,0,1,1,0,0,0,0,1,1,0,0,1,0,1,0,1,1,1,1,1,1,1,1,1,1,1,1])\n",
    "y_true.shape"
   ]
  },
  {
   "cell_type": "code",
   "execution_count": null,
   "metadata": {},
   "outputs": [],
   "source": [
    "# Check the properties of the graph\n",
    "# G.number_of_nodes()\n",
    "# G.nodes()\n",
    "# G.number_of_edges()\n",
    "# G.edges()\n",
    "G.degree(G.nodes())"
   ]
  },
  {
   "cell_type": "code",
   "execution_count": null,
   "metadata": {
    "collapsed": true
   },
   "outputs": [],
   "source": [
    "# Adjacency matrix of the graph\n",
    "A = nx.adjacency_matrix(G)\n",
    "x_train = A.todense()"
   ]
  },
  {
   "cell_type": "code",
   "execution_count": null,
   "metadata": {},
   "outputs": [],
   "source": [
    "# Create the kmeans object and fit the data\n",
    "from sklearn.cluster import KMeans\n",
    "kmeans = KMeans(n_clusters=2) # Try different values for n_clusters here\n",
    "kmeans.fit(x_train)"
   ]
  },
  {
   "cell_type": "code",
   "execution_count": null,
   "metadata": {},
   "outputs": [],
   "source": [
    "# Get the cluster labels for each sample\n",
    "y_pred = kmeans.labels_\n",
    "y_pred.shape"
   ]
  },
  {
   "cell_type": "code",
   "execution_count": null,
   "metadata": {},
   "outputs": [],
   "source": [
    "# Compare the results (This will only work if n_clusters = 2)\n",
    "from sklearn.metrics import classification_report\n",
    "print(classification_report(y_pred,y_true))"
   ]
  },
  {
   "cell_type": "code",
   "execution_count": null,
   "metadata": {
    "collapsed": true
   },
   "outputs": [],
   "source": [
    "# View the clusters in the graph\n",
    "colours = ['r','g'] # A different colour for each cluster\n",
    "\n",
    "# Create an empty list for storing the colour of each node\n",
    "colours_list = []\n",
    "# Loop through the nodes and get the colour from the 'colours' variable above based on the predicted label\n",
    "for i in range(0,34):\n",
    "    colours_list.append(colours[y_pred[i]])"
   ]
  },
  {
   "cell_type": "code",
   "execution_count": null,
   "metadata": {},
   "outputs": [],
   "source": [
    "# Use spring_layout for position of the nodes \n",
    "# Check the documentation for other possible layouts like circular_layout, random_layout etc.\n",
    "pos = nx.spring_layout(G)\n",
    "\n",
    "# Draw the graph using the position created above\n",
    "nx.draw_networkx(G,pos)\n",
    "\n",
    "# Draw the node colours using the colour list \n",
    "nx.draw_networkx_nodes(G,pos,node_color=colours_list);\n",
    "\n",
    "# Plot the graph\n",
    "from matplotlib import pyplot as plt\n",
    "plt.show()"
   ]
  }
 ],
 "metadata": {
  "kernelspec": {
   "display_name": "Python 2",
   "language": "python",
   "name": "python2"
  },
  "language_info": {
   "codemirror_mode": {
    "name": "ipython",
    "version": 2
   },
   "file_extension": ".py",
   "mimetype": "text/x-python",
   "name": "python",
   "nbconvert_exporter": "python",
   "pygments_lexer": "ipython2",
   "version": "2.7.13"
  }
 },
 "nbformat": 4,
 "nbformat_minor": 2
}
