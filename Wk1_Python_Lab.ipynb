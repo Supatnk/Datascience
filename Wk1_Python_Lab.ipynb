{
 "cells": [
  {
   "cell_type": "code",
   "execution_count": 2,
   "metadata": {},
   "outputs": [
    {
     "name": "stdout",
     "output_type": "stream",
     "text": [
      "5\n"
     ]
    }
   ],
   "source": [
    "#Addition of 2 and 3\n",
    "i = 2\n",
    "j = 3\n",
    "print(i+j)"
   ]
  },
  {
   "cell_type": "code",
   "execution_count": 3,
   "metadata": {},
   "outputs": [
    {
     "name": "stdout",
     "output_type": "stream",
     "text": [
      "-1\n",
      "6\n",
      "1.5\n",
      "1\n",
      "1\n",
      "9\n",
      "36\n",
      "902\n"
     ]
    }
   ],
   "source": [
    "#Subtraction of 3 from 2\n",
    "print(i-j)\n",
    "\n",
    "#Multiplication of 3 by 2\n",
    "print(i*j)\n",
    "\n",
    "#Division of 3 by 2\n",
    "print(j/i)\n",
    "\n",
    "#Floor division of 3 by 2\n",
    "print(j//i)\n",
    "\n",
    "#Modulus of 3 by 2\n",
    "print(3%2)\n",
    "\n",
    "#Exponentiation of 3 by 2\n",
    "print(j**i)\n",
    "\n",
    "#6 square\n",
    "print(6**2)\n",
    "\n",
    "#bodmass\n",
    "print(2+(5*6)**2)\n"
   ]
  },
  {
   "cell_type": "code",
   "execution_count": 7,
   "metadata": {},
   "outputs": [
    {
     "name": "stdout",
     "output_type": "stream",
     "text": [
      "True\n",
      "False\n",
      "True\n",
      "True\n",
      "False\n",
      "True\n"
     ]
    }
   ],
   "source": [
    "#6 is less than 7\n",
    "print(bool(6<7))\n",
    "\n",
    "#10 is equal to 13\n",
    "print(bool(10==13))\n",
    "\n",
    "print(bool(0.5<=20))\n",
    "\n",
    "print(bool(20>5))\n",
    "\n",
    "print(bool(4<5 and 4>6))\n",
    "\n",
    "print(bool(4<5 or 4>= 6))#Create a string with the contents “this is a test string”, then:"
   ]
  },
  {
   "cell_type": "code",
   "execution_count": 14,
   "metadata": {},
   "outputs": [
    {
     "name": "stdout",
     "output_type": "stream",
     "text": [
      "this is a string\n",
      "16\n",
      "This is a string\n",
      "THIS IS A STRING\n",
      "i\n",
      "n\n"
     ]
    }
   ],
   "source": [
    "#Create a string with the contents “this is a test string”, then:\n",
    "s = 'this is a string'\n",
    "print(s)\n",
    "\n",
    "#2.1. Calculate the length of the string\n",
    "print(len(s))\n",
    "\n",
    "#2.2. Capitalise the first letter of the string\n",
    "print(s.capitalize())\n",
    "\n",
    "#2.3. Make the whole string upper case\n",
    "print(s.upper())\n",
    "\n",
    "#2.4. Access the 3rd character of the string (i) – remember that we are using a zero-based index.\n",
    "print(s[2])\n",
    "\n",
    "\n",
    "#2.5. Using negative indexing, access the second last character of the string (n).\n",
    "print(s[-2])\n",
    "\n"
   ]
  },
  {
   "cell_type": "code",
   "execution_count": 144,
   "metadata": {},
   "outputs": [
    {
     "name": "stdout",
     "output_type": "stream",
     "text": [
      "['Red', 'Green', 'Blue']\n",
      "False\n",
      "True\n",
      "Blue\n",
      "None\n",
      "['Blue', 'Green', 'Red']\n",
      "['Red', 'Green', 'Blue']\n",
      "['Red', 'Green', 'Blue']\n",
      "3\n",
      "Red\n",
      "['Red', 'Blue']\n",
      "['Red', 'Blue', 'Green', 'Yellow']\n",
      "['Red', 'Purple', 'Blue', 'Green', 'Yellow']\n"
     ]
    }
   ],
   "source": [
    "# 3. Create a list with the strings “Red”, “Green”, and “Blue”, then:\n",
    "list1=['Red','Green','Blue']\n",
    "\n",
    "print(list1)\n",
    "\n",
    "#3.1. Find out if “Purple” is in the list.\n",
    "\n",
    "print('Purple' in list1)\n",
    "print('Red' in list1)\n",
    "\n",
    "#3.2. Use Negative Indexing to access “Blue”\n",
    "print(list1[-1])\n",
    "\n",
    "#3.3. Sort the list in ascending order (based on the first character of each string)\n",
    "print(list1.sort())\n",
    "print(list1)\n",
    "\n",
    "#3.4. Sort the list in descending order (based on the first character of each string)\n",
    "print(list1[::-1])\n",
    "list1.sort(reverse=True)\n",
    "print(list1)\n",
    "\n",
    "# number of items in the list\n",
    "print(len(list1[::-1]))\n",
    "\n",
    "#3.5. Sort the list from shortest string to longest.\n",
    "list1.sort(key=len)\n",
    "\n",
    "#3.6. Access the first element in the list\n",
    "print(list1[0])\n",
    "\n",
    "#3.7. Access every element in the list except the last\n",
    "print(list1[0:-1])\n",
    "\n",
    "#3.8. Add the colour “Yellow” to the end of list\n",
    "list1.append('Yellow')\n",
    "print(list1)\n",
    "\n",
    "#3.9. Add the colour “Purple” to the second position in the list – make sure you are not replacing the existing second colour. \n",
    "#The second colour should now become the third, etc.\n",
    "list1.insert(1,'Purple')\n",
    "print(list1)\n"
   ]
  },
  {
   "cell_type": "code",
   "execution_count": 56,
   "metadata": {},
   "outputs": [
    {
     "name": "stdout",
     "output_type": "stream",
     "text": [
      "Roar\n",
      "{'Cow': 'Moo', 'Lion': 'Roar', 'Pig': 'Oink', 'Cat': 'Meow'}\n"
     ]
    }
   ],
   "source": [
    "#4. Create a dictionary called ‘animalSounds’. \n",
    "#This dictionary should contain animal names as keys, and corresponding animal sounds as values. Insert 3 key-value pairs.\n",
    "animalsounds = {'Cow':'Moo','Lion':'Roar','Pig':'Oink'}\n",
    "\n",
    "#4.1. Output the sound one animal makes\n",
    "print(animalsounds['Lion'])\n",
    "\n",
    "#4.2. Add a new key-value pair to the dictionary.\n",
    "animalsounds['Cat'] ='Meow'\n",
    "print(animalsounds)\n"
   ]
  },
  {
   "cell_type": "code",
   "execution_count": 63,
   "metadata": {},
   "outputs": [
    {
     "name": "stdout",
     "output_type": "stream",
     "text": [
      "{1, 2, 3, 4, 5, 6, 7, 8, 9, 10, 11, 13, 15, 17, 19}\n",
      "{1, 3, 5, 7, 9}\n",
      "{11, 13, 15, 17, 19}\n",
      "{2, 4, 6, 8, 10, 11, 13, 15, 17, 19}\n"
     ]
    }
   ],
   "source": [
    "#Sets\n",
    "#5. Create two sets manually. One containing odd numbers from 1 to 19, the other containing all numbers from 1 to 10, then:\n",
    "Odds = {1,3,5,7,9,11,13,15,17,19}\n",
    "All={1,2,3,4,5,6,7,8,9,10}\n",
    "\n",
    "#5.1. Output one set which is a union of the two sets.\n",
    "print(Odds.union(All))\n",
    "\n",
    "#5.2. Output only the items that appear in both sets.\n",
    "print(Odds.intersection(All))\n",
    "\n",
    "#5.3. Output only the items that appear in the odd number set, and not the all number set.\n",
    "print(Odds.difference(All))\n",
    "\n",
    "#5.4. Output only the items that appear in either one set or the other, not both.\n",
    "print(Odds.symmetric_difference(All))"
   ]
  },
  {
   "cell_type": "code",
   "execution_count": 3,
   "metadata": {},
   "outputs": [
    {
     "name": "stdout",
     "output_type": "stream",
     "text": [
      "Yellow\n",
      "Red\n",
      "Green\n",
      "Blue\n",
      "[1, 2, 3, 4, 5, 6, 7]\n",
      "The quick brown fox jumps over the lazy dog\n",
      "T\n",
      "god yzal eht revo spmuj xof nworb kciuq ehT\n",
      "['z', 'y', 'x', 'w', 'v', 'u', 't', 's', 'r', 'q', 'p', 'o', 'n', 'm', 'l', 'k', 'j', 'i', 'h', 'g', 'f', 'e', 'd', 'c', 'b', 'a', ' ']\n",
      "['z', 'y', 'x', 'w', 'v', 'U', 't', 's', 'r', 'q', 'p', 'O', 'n', 'm', 'l', 'k', 'j', 'I', 'h', 'g', 'f', 'E', 'd', 'c', 'b', 'A', ' ']\n"
     ]
    },
    {
     "data": {
      "text/plain": [
       "['meow', 'moo', 'bark', 'oink', 'quack', 'neigh']"
      ]
     },
     "execution_count": 3,
     "metadata": {},
     "output_type": "execute_result"
    }
   ],
   "source": [
    "#Write a For Loop that will iterate through a list which contains several colours as strings (all lowercase). \n",
    "#The loop should capitalise the first letter each string, and output each colour with the capitalised first letter.\n",
    "\n",
    "color = ['yellow','red','green','blue']\n",
    "for i in color:\n",
    "    print(i.capitalize())\n",
    "\n",
    "#Write a series of statements that will remove any duplicates from the following list, \n",
    "#and return them in order: 1,1,1,1,5,4,3,6,7,3,2,1. Note: use a For Loop for this.\n",
    "numdup=[1,1,1,1,5,4,3,6,7,3,2,1]\n",
    "numunq=[]\n",
    "for i in numdup:\n",
    "    if i not in numunq:\n",
    "        numunq.append(i)\n",
    "numunq.sort()\n",
    "print(numunq)\n",
    "\n",
    "#Take the sentence: “The quick brown fox jumps over the lazy dog.”, and:\n",
    "\n",
    "s = \"The quick brown fox jumps over the lazy dog\"\n",
    "print(s)\n",
    "\n",
    "#8.1. Write one statement which will reverse the order of all characters in the sentence as follows: 'god yzal eht revo spmuj xof nworb kciuq ehT'\n",
    "print(s[:1])\n",
    "print(s[::-1])\n",
    "\n",
    "\n",
    "#8.2. Write a series of statements that will reverse the order of the words. Hint: use the string.split() function to separate the sentence into words.\n",
    "words=s.split(' ')\n",
    "words[::-1]\n",
    "\n",
    "#8.3. Write a series of statements that will take all of the characters in the original sentence, remove any duplicates, and return them in descending (Z -> A) order.\n",
    "char=s[::1]\n",
    "charunq=[]\n",
    "for c in char:\n",
    "    if c not in charunq:\n",
    "        charunq.append(c.lower())\n",
    "charunq.sort(reverse=True)\n",
    "print(charunq)\n",
    "\n",
    "#8.4. Finally, take the list of characters you generated, and output another list with all vowels capitalised. Hint: you may wish to use the “enumerate” function on your list.\n",
    "\n",
    "temp=[]\n",
    "vowels = ['a','e','i','o','u']\n",
    "for v,c in enumerate(charunq):\n",
    "    if c.islower() and c in vowels:\n",
    "        charunq[v] = c.upper()\n",
    "print(charunq)\n",
    "\n",
    "#The collection “sounds” contains some errors. Animal names have accidentally been inserted in some instances, instead of the sound they make. Iterate through the sounds collection and use the animal_sounds collection to automatically replace the animal names in the sounds list with the correct sound.\n",
    "animals_sounds = {\"horse\":\"neigh\",\"pig\":\"oink\",\"dog\":\"bark\",\"cow\":\"moo\",\"duck\":\"quack\",\"cat\":\"meow\"} \n",
    "sounds = [\"meow\",\"moo\",\"bark\",\"pig\",\"quack\",\"horse\"]\n",
    "\n",
    "for i,s in enumerate(sounds):\n",
    "    if s in animals_sounds.keys():\n",
    "        sounds[i] = animals_sounds[s]\n",
    "sounds\n"
   ]
  },
  {
   "cell_type": "code",
   "execution_count": null,
   "metadata": {
    "collapsed": true
   },
   "outputs": [],
   "source": []
  }
 ],
 "metadata": {
  "kernelspec": {
   "display_name": "Python 3",
   "language": "python",
   "name": "python3"
  },
  "language_info": {
   "codemirror_mode": {
    "name": "ipython",
    "version": 3
   },
   "file_extension": ".py",
   "mimetype": "text/x-python",
   "name": "python",
   "nbconvert_exporter": "python",
   "pygments_lexer": "ipython3",
   "version": "3.6.1"
  }
 },
 "nbformat": 4,
 "nbformat_minor": 2
}
