{
 "cells": [
  {
   "cell_type": "code",
   "execution_count": 26,
   "metadata": {},
   "outputs": [
    {
     "ename": "SyntaxError",
     "evalue": "invalid syntax (<ipython-input-26-eadeb7990149>, line 28)",
     "output_type": "error",
     "traceback": [
      "\u001b[1;36m  File \u001b[1;32m\"<ipython-input-26-eadeb7990149>\"\u001b[1;36m, line \u001b[1;32m28\u001b[0m\n\u001b[1;33m    elif opt == \"d\":\u001b[0m\n\u001b[1;37m       ^\u001b[0m\n\u001b[1;31mSyntaxError\u001b[0m\u001b[1;31m:\u001b[0m invalid syntax\n"
     ]
    }
   ],
   "source": [
    "#User Input\n",
    "\n",
    "allval=[]\n",
    "print('What is your name?')\n",
    "name = input()\n",
    "print('Please create a list of values by entering a value and pressing enter. When you have added all of the values you wish to enter, enter #STOP')\n",
    "\n",
    "while True:\n",
    "    print('Value:')\n",
    "    val1=''\n",
    "    val1 =input()\n",
    "    if val1 == '#STOP':\n",
    "        break\n",
    "    else:\n",
    "        allval.append(val1) \n",
    "\n",
    "print('The complete list of values entered is:')\n",
    "print(allval)\n",
    "\n",
    "listall=[]\n",
    "while True:\n",
    "    opt=''\n",
    "    print('What would you like to do? Options are: a to add, press d to delete, or press r to retrieve. Enter any other character to exit.')\n",
    "    opt=input()\n",
    "    if opt == \"a\":\n",
    "        value = input(\"What value would you like to add?\\n\")\n",
    "        listall.append(value) \n",
    "        elif opt == \"d\":\n",
    "            value = input(\"What value would you like to delete?\\n\")\n",
    "            listall.remove(value) \n",
    "        elif opt == \"r\":\n",
    "            value = input(\"What index would you like to retrieve?\\n\")\n",
    "            print(values[value])\n",
    "            else:\n",
    "                break"
   ]
  }
 ],
 "metadata": {
  "kernelspec": {
   "display_name": "Python 3",
   "language": "python",
   "name": "python3"
  },
  "language_info": {
   "codemirror_mode": {
    "name": "ipython",
    "version": 3
   },
   "file_extension": ".py",
   "mimetype": "text/x-python",
   "name": "python",
   "nbconvert_exporter": "python",
   "pygments_lexer": "ipython3",
   "version": "3.6.1"
  }
 },
 "nbformat": 4,
 "nbformat_minor": 2
}
