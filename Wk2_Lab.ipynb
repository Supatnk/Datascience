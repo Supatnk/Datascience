{
 "cells": [
  {
   "cell_type": "code",
   "execution_count": 4,
   "metadata": {},
   "outputs": [
    {
     "data": {
      "text/plain": [
       "3"
      ]
     },
     "execution_count": 4,
     "metadata": {},
     "output_type": "execute_result"
    }
   ],
   "source": [
    "#1. Write a function that will accept two numbers and return the sum of those two numbers\n",
    "\n",
    "def addnum(a,b):\n",
    "    return a+b\n",
    "\n",
    "addnum(1,2)"
   ]
  },
  {
   "cell_type": "code",
   "execution_count": 8,
   "metadata": {},
   "outputs": [
    {
     "data": {
      "text/plain": [
       "15"
      ]
     },
     "execution_count": 8,
     "metadata": {},
     "output_type": "execute_result"
    }
   ],
   "source": [
    "#2. Write a function that will accept any amount of numbers provided as individual parameters (not a list) and \n",
    "#return the sum of those numbers. Use a for loop in the function, not a list comprehension\n",
    "\n",
    "def addanynum(*n):\n",
    "    tot=0\n",
    "    for i in n:\n",
    "        tot += i\n",
    "    return tot\n",
    "\n",
    "addanynum(1,2,3,4,5)\n"
   ]
  },
  {
   "cell_type": "code",
   "execution_count": 27,
   "metadata": {},
   "outputs": [
    {
     "ename": "AttributeError",
     "evalue": "'str' object has no attribute 'reverse'",
     "output_type": "error",
     "traceback": [
      "\u001b[1;31m---------------------------------------------------------------------------\u001b[0m",
      "\u001b[1;31mAttributeError\u001b[0m                            Traceback (most recent call last)",
      "\u001b[1;32m<ipython-input-27-3920458ca560>\u001b[0m in \u001b[0;36m<module>\u001b[1;34m()\u001b[0m\n\u001b[0;32m      9\u001b[0m         \u001b[1;32mreturn\u001b[0m \u001b[1;34m'False'\u001b[0m\u001b[1;33m\u001b[0m\u001b[0m\n\u001b[0;32m     10\u001b[0m \u001b[1;33m\u001b[0m\u001b[0m\n\u001b[1;32m---> 11\u001b[1;33m \u001b[0mpalindrome\u001b[0m\u001b[1;33m(\u001b[0m\u001b[1;34m'maam'\u001b[0m\u001b[1;33m)\u001b[0m\u001b[1;33m\u001b[0m\u001b[0m\n\u001b[0m",
      "\u001b[1;32m<ipython-input-27-3920458ca560>\u001b[0m in \u001b[0;36mpalindrome\u001b[1;34m(s)\u001b[0m\n\u001b[0;32m      3\u001b[0m \u001b[1;32mdef\u001b[0m \u001b[0mpalindrome\u001b[0m\u001b[1;33m(\u001b[0m\u001b[0ms\u001b[0m\u001b[1;33m)\u001b[0m\u001b[1;33m:\u001b[0m\u001b[1;33m\u001b[0m\u001b[0m\n\u001b[0;32m      4\u001b[0m     \u001b[0mr\u001b[0m\u001b[1;33m=\u001b[0m \u001b[0ms\u001b[0m\u001b[1;33m\u001b[0m\u001b[0m\n\u001b[1;32m----> 5\u001b[1;33m     \u001b[0mr\u001b[0m\u001b[1;33m.\u001b[0m\u001b[0mreverse\u001b[0m\u001b[1;33m(\u001b[0m\u001b[1;33m)\u001b[0m\u001b[1;33m\u001b[0m\u001b[0m\n\u001b[0m\u001b[0;32m      6\u001b[0m     \u001b[1;32mif\u001b[0m \u001b[0mr\u001b[0m\u001b[1;33m==\u001b[0m\u001b[0ms\u001b[0m\u001b[1;33m:\u001b[0m\u001b[1;33m\u001b[0m\u001b[0m\n\u001b[0;32m      7\u001b[0m         \u001b[1;32mreturn\u001b[0m \u001b[1;34m'True'\u001b[0m\u001b[1;33m\u001b[0m\u001b[0m\n",
      "\u001b[1;31mAttributeError\u001b[0m: 'str' object has no attribute 'reverse'"
     ]
    }
   ],
   "source": [
    "#3. Write a function that will return True if a provided string is a palindrome, and False if it is not.\n",
    "\n",
    "def palindrome(s):\n",
    "    r= s\n",
    "    r.reverse()\n",
    "    if r==s:\n",
    "        return 'True'\n",
    "    else:\n",
    "        return 'False'\n",
    "    \n",
    "palindrome('maam')"
   ]
  },
  {
   "cell_type": "code",
   "execution_count": 29,
   "metadata": {},
   "outputs": [
    {
     "data": {
      "text/plain": [
       "True"
      ]
     },
     "execution_count": 29,
     "metadata": {},
     "output_type": "execute_result"
    }
   ],
   "source": [
    "#3. Write a function that will return True if a provided string is a palindrome, and False if it is not.\n",
    "def palindrome(s):\n",
    "    r=s[::-1]\n",
    "    return r==s\n",
    "    \n",
    "palindrome('maam')"
   ]
  },
  {
   "cell_type": "code",
   "execution_count": 36,
   "metadata": {},
   "outputs": [
    {
     "data": {
      "text/plain": [
       "[1, 3, 5]"
      ]
     },
     "execution_count": 36,
     "metadata": {},
     "output_type": "execute_result"
    }
   ],
   "source": [
    "#4. Write a function that will return a list of all of the odd numbers from a given list. \n",
    "#Use a for loop, not a list comprehension.\n",
    "\n",
    "def retodd(*n):\n",
    "    oddlist=[]\n",
    "    for i in n:\n",
    "        if i%2 > 0:\n",
    "            oddlist.append(i)\n",
    "    return oddlist\n",
    "\n",
    "retodd(1,2,3,4,5)"
   ]
  },
  {
   "cell_type": "code",
   "execution_count": 47,
   "metadata": {},
   "outputs": [
    {
     "name": "stdout",
     "output_type": "stream",
     "text": [
      "Type Error Caught: not all arguments converted during string formatting\n"
     ]
    }
   ],
   "source": [
    "#5. Amend your answer to question 4 to include a try…except clause which will print an informative error message if a list element which is not a number is encountered. \n",
    "#The error message should be: “Type Error Caught: [the built-in exception message]”\n",
    "\n",
    "def retodd(n):\n",
    "    try:\n",
    "        oddlist=[]    \n",
    "        for i in n:\n",
    "            if i%2 > 0:\n",
    "                oddlist.append(i)\n",
    "        return oddlist\n",
    "    except TypeError as E:\n",
    "        print(\"Type Error Caught:\",E)\n",
    "\n",
    "\n",
    "retodd(['a','b',3])"
   ]
  },
  {
   "cell_type": "code",
   "execution_count": 48,
   "metadata": {},
   "outputs": [
    {
     "name": "stdout",
     "output_type": "stream",
     "text": [
      "String is not supplied\n"
     ]
    }
   ],
   "source": [
    "#6. Amend your answer to question 3 to include a try…except clause which will print an informative error message if a string is not supplied.\n",
    "\n",
    "def palindrome(s):\n",
    "    try:\n",
    "        r=s[::-1]\n",
    "        return r==s\n",
    "    except:\n",
    "        print(\"String is not supplied\")\n",
    "    \n",
    "palindrome(8181)"
   ]
  },
  {
   "cell_type": "code",
   "execution_count": 55,
   "metadata": {},
   "outputs": [
    {
     "name": "stdout",
     "output_type": "stream",
     "text": [
      "Key not found: sheep\n"
     ]
    }
   ],
   "source": [
    "#7. The following code example will not execute without an error. Amend the code to catch the specific exception thrown and print the following error message: “Key not found: [name of key]”\n",
    "\n",
    "def returnValue(key):\n",
    "    try:\n",
    "        animals = {'cow':'moo','cat':'meow','dog':'bark'}\n",
    "        return animals[key]\n",
    "    except KeyError as E:\n",
    "        print('Key not found:',key)\n",
    "\n",
    "returnValue('sheep')"
   ]
  },
  {
   "cell_type": "code",
   "execution_count": 63,
   "metadata": {},
   "outputs": [
    {
     "name": "stdout",
     "output_type": "stream",
     "text": [
      "5,10,15,20,25,30,35,40,45,50,55,60,65,70,75,80,85,90,95,"
     ]
    }
   ],
   "source": [
    "#8. Write a function which uses the range iterator to print every multiple of 5 between a two values passed to the function. \n",
    "#Separate each printed number by a comma.\n",
    "\n",
    "def print5(a,b):\n",
    "    for i in range(a,b):\n",
    "        if i%5 ==0:\n",
    "            print(i, end=',')\n",
    "            \n",
    "print5(1,100)"
   ]
  },
  {
   "cell_type": "code",
   "execution_count": 86,
   "metadata": {},
   "outputs": [
    {
     "name": "stdout",
     "output_type": "stream",
     "text": [
      "Character 'S' is at index 0\n",
      "Character 'n' is at index 2\n",
      "Character 'e' is at index 4\n",
      "Character 'c' is at index 6\n",
      "Character 's' is at index 8\n",
      "Character 'a' is at index 10\n",
      "Character 'e' is at index 12\n",
      "Character 'l' is at index 14\n",
      "Character 's' is at index 16\n",
      "Character 's' is at index 18\n",
      "Character 'o' is at index 20\n",
      "Character ' ' is at index 22\n",
      "Character 'h' is at index 24\n",
      "Character 'r' is at index 26\n",
      "Character 'c' is at index 28\n",
      "Character 'e' is at index 30\n",
      "Character 's' is at index 32\n"
     ]
    }
   ],
   "source": [
    "#9. Use the ‘enumerate’ iterator within a function to output the index and character of every other character in the following sentence “Sentences are lists of characters.” \n",
    "#The output for each character should be “Character ‘[character’] is at index [index]”\n",
    "\n",
    "def enum(s):\n",
    "    for i,val in enumerate(s):\n",
    "        if i%2 ==0:\n",
    "            print(\"Character '{0}' is at index {1}\".format(val,i))\n",
    "\n",
    "enum(\"Sentences are lists of characters.\")"
   ]
  },
  {
   "cell_type": "code",
   "execution_count": 87,
   "metadata": {},
   "outputs": [
    {
     "name": "stdout",
     "output_type": "stream",
     "text": [
      "Sarah lives in Larne, and is 22 years old\n",
      "Andrew lives in Carrickfergus, and is 30 years old\n",
      "Paul lives in Newtownabbey, and is 54 years old\n",
      "Sally lives in Bangor, and is 42 years old\n",
      "Sinead lives in Holywood, and is 26 years old\n"
     ]
    }
   ],
   "source": [
    "#10. Use the ‘zip’ iterator to print the follow 3 lists in the following format. “[Name] lives in [Town], and is [Age] years old.”\n",
    "\n",
    "Names = [\"Sarah\",\"Andrew\",\"Paul\",\"Sally\",\"Sinead\"] \n",
    "Towns = [\"Larne\",\"Carrickfergus\",\"Newtownabbey\",\"Bangor\",\"Holywood\"] \n",
    "Ages = [22,30,54,42,26]\n",
    "\n",
    "for aName,bTown,cAge in zip(Names,Towns,Ages):\n",
    "    print(\"{0} lives in {1}, and is {2} years old\".format(aName,bTown,cAge))\n",
    "    "
   ]
  },
  {
   "cell_type": "code",
   "execution_count": 94,
   "metadata": {},
   "outputs": [
    {
     "data": {
      "text/plain": [
       "['No', 'WORDS', 'in', 'this', 'SENTENCE', 'are', 'CAPITALISED.']"
      ]
     },
     "execution_count": 94,
     "metadata": {},
     "output_type": "execute_result"
    }
   ],
   "source": [
    "#11. Use the ‘map’ iterator within a function to capitalise all words in the sentence that are over 5 characters long “No words in this sentence are capitalised.” Note: you will need to use the following:\n",
    "#a. The string split() method to obtain individual words.\n",
    "#b. An anonymous function called by the map iterator\n",
    "#c. The enumerate iterator to get the current index.\n",
    "\n",
    "s = 'No words in this sentence are capitalised.'\n",
    "\n",
    "words = s.split(' ')\n",
    "\n",
    "cap = lambda word: word if len(word) < 5 else word.upper()\n",
    "    \n",
    "for i,val in enumerate(map(cap,words)):\n",
    "    words[i]=val\n",
    "\n",
    "words"
   ]
  },
  {
   "cell_type": "code",
   "execution_count": 95,
   "metadata": {},
   "outputs": [
    {
     "data": {
      "text/plain": [
       "['All', 'WORDS', 'in', 'this', 'SENTENCE', 'are', 'CAPITALISED.']"
      ]
     },
     "execution_count": 95,
     "metadata": {},
     "output_type": "execute_result"
    }
   ],
   "source": [
    "#12. Amend your solution to the previous question so that the first word in the sentence (“No”) is programmatically changed to “All”\n",
    "\n",
    "s = 'No words in this sentence are capitalised.'\n",
    "\n",
    "words = s.split(' ')\n",
    "\n",
    "cap = lambda word: word if len(word) < 5 else word.upper()\n",
    "    \n",
    "for i,val in enumerate(map(cap,words)):\n",
    "    words[i]=val\n",
    "words[0] = 'All'\n",
    "\n",
    "words"
   ]
  },
  {
   "cell_type": "code",
   "execution_count": 100,
   "metadata": {},
   "outputs": [
    {
     "name": "stdout",
     "output_type": "stream",
     "text": [
      "Value is: 6  and square root is 2.449489742783178\n",
      "Value is: 12  and square root is 3.4641016151377544\n",
      "Value is: 18  and square root is 4.242640687119285\n",
      "Value is: 24  and square root is 4.898979485566356\n",
      "Value is: 30  and square root is 5.477225575051661\n",
      "Value is: 36  and square root is 6.0\n",
      "Value is: 42  and square root is 6.48074069840786\n",
      "Value is: 48  and square root is 6.928203230275509\n",
      "Value is: 54  and square root is 7.3484692283495345\n",
      "Value is: 60  and square root is 7.745966692414834\n",
      "Value is: 66  and square root is 8.12403840463596\n",
      "Value is: 72  and square root is 8.48528137423857\n",
      "Value is: 78  and square root is 8.831760866327848\n",
      "Value is: 84  and square root is 9.16515138991168\n",
      "Value is: 90  and square root is 9.486832980505138\n",
      "Value is: 96  and square root is 9.797958971132712\n"
     ]
    }
   ],
   "source": [
    "#13. Write a function that will use the filter enumerator to output the square root of all multiples of 6 between two given numbers. Output this as a string in the format of “Value is [value] and square root is [square root]”.\n",
    "\n",
    "import math\n",
    "\n",
    "isMultiple = lambda num: num % 6 == 0\n",
    "\n",
    "def SqRootMultiples(start,end):\n",
    "    for val in filter(isMultiple,range(start,end)):\n",
    "        print('Value is: {0}  and square root is {1}'.format(val,math.sqrt(val)))\n",
    "\n",
    "SqRootMultiples (1,100)    "
   ]
  },
  {
   "cell_type": "code",
   "execution_count": 104,
   "metadata": {},
   "outputs": [
    {
     "name": "stdout",
     "output_type": "stream",
     "text": [
      "Sarah lives in Larne, and is 22 years old\n",
      "Andrew lives in Carrickfergus, and is 30 years old\n",
      "Paul lives in Newtownabbey, and is 54 years old\n",
      "Sally lives in NOT SUPPLIED, and is 42 years old\n",
      "Sinead lives in NOT SUPPLIED, and is 26 years old\n",
      "James lives in NOT SUPPLIED, and is 28 years old\n",
      "Dave lives in NOT SUPPLIED, and is NOT SUPPLIED years old\n"
     ]
    }
   ],
   "source": [
    "#14. Identify and use the correct iterator to merge the detail from the following lists. The first index of each list corresponds to one person, the second index from each list corresponds to the next person, etc. If detail is missing, insert the string “NOT SUPPLIED”. For example: “James lives in NOT SUPPLIED and is 28 years old”\n",
    "\n",
    "#from itertools import zip_longest\n",
    "\n",
    "Names = [\"Sarah\",\"Andrew\",\"Paul\",\"Sally\",\"Sinead\", \"James\", \"Dave\"] \n",
    "Towns = [\"Larne\",\"Carrickfergus\",\"Newtownabbey\"] \n",
    "Ages = [22,30,54,42,26,28]\n",
    "\n",
    "\n",
    "for aName,bTown,cAge in zip_longest (Names,Towns,Ages, fillvalue='NOT SUPPLIED'):\n",
    "    print(\"{0} lives in {1}, and is {2} years old\".format(aName,bTown,cAge))\n",
    "    "
   ]
  },
  {
   "cell_type": "code",
   "execution_count": null,
   "metadata": {
    "collapsed": true
   },
   "outputs": [],
   "source": [
    "{}"
   ]
  }
 ],
 "metadata": {
  "kernelspec": {
   "display_name": "Python 3",
   "language": "python",
   "name": "python3"
  },
  "language_info": {
   "codemirror_mode": {
    "name": "ipython",
    "version": 3
   },
   "file_extension": ".py",
   "mimetype": "text/x-python",
   "name": "python",
   "nbconvert_exporter": "python",
   "pygments_lexer": "ipython3",
   "version": "3.6.1"
  }
 },
 "nbformat": 4,
 "nbformat_minor": 2
}
